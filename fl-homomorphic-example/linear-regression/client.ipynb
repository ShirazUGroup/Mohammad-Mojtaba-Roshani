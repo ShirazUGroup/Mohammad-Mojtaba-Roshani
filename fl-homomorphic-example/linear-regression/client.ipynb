{
 "cells": [
  {
   "cell_type": "markdown",
   "metadata": {},
   "source": [
    "# CLIENT"
   ]
  },
  {
   "cell_type": "code",
   "execution_count": null,
   "metadata": {},
   "outputs": [],
   "source": [
    "import phe as paillier\n",
    "import json"
   ]
  },
  {
   "cell_type": "code",
   "execution_count": null,
   "metadata": {},
   "outputs": [],
   "source": [
    "def storeKeys():\n",
    "    public_key, private_key = paillier.generate_paillier_keypair()\n",
    "    keys = {}\n",
    "    keys['public_key'] = {'n': public_key.n}\n",
    "    keys['private_key'] = {'p': private_key.p, 'q': private_key.q}\n",
    "    with open('keys/client_keys.json', 'w') as file:\n",
    "        json.dump(keys, file)\n",
    "\n",
    "\n",
    "def getKeys():\n",
    "    with open('keys/client_keys.json', 'r') as file:\n",
    "        keys = json.load(file)\n",
    "        pub_key = paillier.PaillierPublicKey(n=int(keys['public_key']['n']))\n",
    "        priv_key = paillier.PaillierPrivateKey(\n",
    "            pub_key, keys['private_key']['p'], keys['private_key']['q'])\n",
    "        return pub_key, priv_key\n",
    "\n",
    "\n",
    "def serializeData(public_key, data):\n",
    "    encrypted_data_list = [public_key.encrypt(x) for x in data]\n",
    "    encrypted_data = {}\n",
    "    encrypted_data['public_key'] = {'n': public_key.n}\n",
    "    encrypted_data['values'] = [(str(x.ciphertext()), x.exponent)\n",
    "                                for x in encrypted_data_list]\n",
    "    serialized = json.dumps(encrypted_data)\n",
    "    return serialized"
   ]
  },
  {
   "cell_type": "markdown",
   "metadata": {},
   "source": [
    "### Create SK & PK"
   ]
  },
  {
   "cell_type": "code",
   "execution_count": null,
   "metadata": {},
   "outputs": [],
   "source": [
    "storeKeys()"
   ]
  },
  {
   "cell_type": "markdown",
   "metadata": {},
   "source": [
    "### Data Encryption"
   ]
  },
  {
   "cell_type": "code",
   "execution_count": null,
   "metadata": {},
   "outputs": [],
   "source": [
    "pub_key, priv_key = getKeys()\n",
    "# age,healthy_eating,active_lifestyle,Gender\n",
    "data = age, he, al, gen = [24, 4, 6, 1]\n",
    "serializeData(pub_key, data)\n",
    "datafile = serializeData(pub_key, data)\n",
    "with open('keys/encrypted_data.json', 'w') as file:\n",
    "    json.dump(datafile, file)"
   ]
  },
  {
   "cell_type": "markdown",
   "metadata": {},
   "source": [
    "### Send Computation to serverless\n",
    "Skip the traditional file data transferring"
   ]
  },
  {
   "cell_type": "code",
   "execution_count": null,
   "metadata": {},
   "outputs": [],
   "source": []
  },
  {
   "cell_type": "markdown",
   "metadata": {},
   "source": [
    "### Data Decryption"
   ]
  },
  {
   "cell_type": "code",
   "execution_count": null,
   "metadata": {},
   "outputs": [],
   "source": [
    "def loadComputation():\n",
    "    with open('keys/cyphered_computation.json', 'r') as file: \n",
    "        ans=json.load(file)\n",
    "        answer=json.loads(ans)\n",
    "        return answer"
   ]
  },
  {
   "cell_type": "code",
   "execution_count": null,
   "metadata": {},
   "outputs": [],
   "source": [
    "comp_file=loadComputation()\n",
    "comp_key=paillier.PaillierPublicKey(n=int(comp_file['pubkey']['n']))\n",
    "comp = paillier.EncryptedNumber(comp_key, int(comp_file['values'][0]), int(comp_file['values'][1]))\n",
    "if (comp_key==pub_key):\n",
    "    print(priv_key.decrypt(comp))"
   ]
  }
 ],
 "metadata": {
  "kernelspec": {
   "display_name": "Python 3",
   "language": "python",
   "name": "python3"
  },
  "language_info": {
   "codemirror_mode": {
    "name": "ipython",
    "version": 3
   },
   "file_extension": ".py",
   "mimetype": "text/x-python",
   "name": "python",
   "nbconvert_exporter": "python",
   "pygments_lexer": "ipython3",
   "version": "3.12.1"
  }
 },
 "nbformat": 4,
 "nbformat_minor": 2
}
