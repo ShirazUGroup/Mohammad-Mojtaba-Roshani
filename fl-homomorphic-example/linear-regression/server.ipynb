{
 "cells": [
  {
   "cell_type": "markdown",
   "metadata": {},
   "source": [
    "# SERVER"
   ]
  },
  {
   "cell_type": "code",
   "execution_count": null,
   "metadata": {},
   "outputs": [],
   "source": [
    "from helper.lrmodel import LRModel\n",
    "import phe as paillier\n",
    "import json"
   ]
  },
  {
   "cell_type": "code",
   "execution_count": null,
   "metadata": {},
   "outputs": [],
   "source": [
    "def getData():  # TODO: replace with fission serverless function call\n",
    "    with open('keys/encrypted_data.json', 'r') as file:\n",
    "        d = json.load(file)\n",
    "    data = json.loads(d)\n",
    "    return data\n",
    "\n",
    "\n",
    "def computeData():\n",
    "    data = getData()\n",
    "    mycoef = LRModel().getCoef()\n",
    "\n",
    "    # #! just to test right calculation\n",
    "    # client_data = [24, 4, 6, 1]\n",
    "    # print(\"The calculation result of server is:\\n\")\n",
    "    # print(sum([client_data[i]*mycoef[i] for i in range(len(client_data))]))\n",
    "    # #! just to test right calculation\n",
    "    \n",
    "    pk = data['public_key']\n",
    "    pubkey = paillier.PaillierPublicKey(n=int(pk['n']))\n",
    "    enc_nums_rec = [paillier.EncryptedNumber(\n",
    "        pubkey, int(x[0], int(x[1]))) for x in data['values']]\n",
    "    results = sum([mycoef[i]*enc_nums_rec[i] for i in range(len(mycoef))])\n",
    "    return results, pubkey  # encrypted result of aggregation\n",
    "\n",
    "\n",
    "def serializeData():\n",
    "    results, pubkey = computeData()\n",
    "    encrypted_data = {}\n",
    "    encrypted_data['pubkey'] = {'n': pubkey.n}\n",
    "    encrypted_data['values'] = (str(results.ciphertext()), results.exponent)\n",
    "    serialized = json.dumps(encrypted_data)\n",
    "    return serialized"
   ]
  },
  {
   "cell_type": "code",
   "execution_count": null,
   "metadata": {},
   "outputs": [],
   "source": [
    "datafile=serializeData()\n",
    "with open('keys/cyphered_computation.json', 'w') as file:\n",
    "    json.dump(datafile, file)"
   ]
  }
 ],
 "metadata": {
  "kernelspec": {
   "display_name": "Python 3",
   "language": "python",
   "name": "python3"
  },
  "language_info": {
   "codemirror_mode": {
    "name": "ipython",
    "version": 3
   },
   "file_extension": ".py",
   "mimetype": "text/x-python",
   "name": "python",
   "nbconvert_exporter": "python",
   "pygments_lexer": "ipython3",
   "version": "3.12.1"
  }
 },
 "nbformat": 4,
 "nbformat_minor": 2
}
