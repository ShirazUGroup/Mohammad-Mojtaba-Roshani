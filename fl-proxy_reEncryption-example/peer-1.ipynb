{
 "cells": [
  {
   "cell_type": "markdown",
   "metadata": {},
   "source": [
    "# Peer A"
   ]
  },
  {
   "cell_type": "code",
   "execution_count": 10,
   "metadata": {},
   "outputs": [],
   "source": [
    "import pandas as pd\n",
    "import numpy as np\n",
    "from cryptography.fernet import Fernet\n",
    "import time"
   ]
  },
  {
   "cell_type": "code",
   "execution_count": 9,
   "metadata": {},
   "outputs": [
    {
     "name": "stdout",
     "output_type": "stream",
     "text": [
      "<class 'pandas.core.frame.DataFrame'> \n",
      "\n",
      "      age  healthy_eating  active_lifestyle  Gender  salary\n",
      "0     36               5                 5       1    2297\n",
      "1     55               3                 5       1    1134\n",
      "2     61               8                 1       1    4969\n",
      "3     29               3                 6       1     902\n",
      "4     34               6                 2       1    3574\n",
      "..   ...             ...               ...     ...     ...\n",
      "120   37               6                 5       0    2878\n",
      "121   28               7                 6       0    3228\n",
      "122   29               5                 1       0    3225\n",
      "123   28               5                 4       1    2529\n",
      "124   64               3                 9       1     894\n",
      "\n",
      "[125 rows x 5 columns]\n"
     ]
    },
    {
     "name": "stderr",
     "output_type": "stream",
     "text": [
      "/Users/mmr/Documents/edu/lab/projects/mmroshani-git-repo/.venv/lib/python3.12/site-packages/numpy/core/fromnumeric.py:59: FutureWarning: 'DataFrame.swapaxes' is deprecated and will be removed in a future version. Please use 'DataFrame.transpose' instead.\n",
      "  return bound(*args, **kwds)\n"
     ]
    }
   ],
   "source": [
    "df = pd.read_csv('employee_data.csv')\n",
    "\n",
    "# Split dateset into 8th equal part\n",
    "num_rows = len(df)\n",
    "rows_per_slice = num_rows // 8\n",
    "slices = np.array_split(df, 8)\n",
    "\n",
    "print(type(slices[0]), \"\\n\"*2, slices[0])"
   ]
  },
  {
   "cell_type": "code",
   "execution_count": 11,
   "metadata": {},
   "outputs": [
    {
     "name": "stdout",
     "output_type": "stream",
     "text": [
      "base64 encoded key is:  b'gruD8olCZ03GOHykeE0tz-AiREMTNHRU-swaQy6Wtzk='\n",
      "base64 encoded key cipher is:  b'gruD8olCZ03GOHykeE0tz-AiREMTNHRU-swaQy6Wtzk='\n",
      "consumed time is:  0.20650005340576172\n",
      "b'gAAAAABl4qlDbkRdcuAlfSMj1yn70XC2ErE-uYq0FeQ8gb_WMjqJVsBLGmNmm92pETfkrkKeGLMkcaVF2zpSsJzBrQBsmCMYLBgbgCJWBgM1QcEtmB7p9SdebUwteSbDNs8An0YK2JCrPKwKsHB4UMp-xm3iAa1x8kgODIfcJTfsuLSlyKe3GJh2WeAOJyuE6gAIxrx1Mmq9oxgKGP1BstXSdM9ZbBt_zIfGe-_quop8FVck3Zx7S5gGsdD-yfc4V_KB5nWGGzjFW5WtgeW7jmGgOO3HYp05zHHZIq5VUZjo5bjRPGRLYkJwFDmso2w25l832Ki3VTzmAyhQiqTChpK7sRCWvSeOj4Us61huP4XN8-Jvts_y19C3JXVxYNvjNdcnO2gGW8FbTQSRjdte3NUIlDP_2LVYOYsxFWWQal9KXF5Pxaiho5uCS-4pt-AJTTS66yttHPIIySlHWDgVU8BgWyWSg1xSmeB8KUWz25KWwIs_w7A9ewCIk68G6byJiLGUrmKOyOZDx7p6IZ6cEiq3Uv72DlBpzuktLpXg8_CSfgHHlLEphjJSuzJCiPrqpzYwUJP4m6-99PL71NDKSAYH6nGxkLNjGgPrAJvnEl55zVEdgBRW3-6WzAjfYdcih2R6qnbGEI1MR-KkgyztqOSlfucrDRoCyx3TIUpjwjxnSIZesGPlmMPRbx6OaoMehiMNCJltGKGeo-7usR-EHLEZ2ZwpSjtRPXNVm1OU9sor4lrMnBr65PfAaeb_-j4sZbo65C2fyCWaQHwIWgGU_374Q6F9Vx-3p9g_i__jOv0YaX4MePBTILyhrzIPEsAbSaYSR-rQFNDR_msTm1TdhIAV_FWHJEVzxVhgqSBL2Adrm85232zKDxqLKJS3hnJvXFH90v_jvTwyziMSE2cjHKIEO4ofBU5zi7pbwSR-YAZe_6tkG8WozJRHXikKBVoEjDBka0jkN4U26GNnVR1Wnco7teTM72pbMPn9kFXTACrGFw4MFWTzORdFsU2-hESfYKHm91je6NiDAgregH6NdCJLhd4qJYfh_-0A31pjf2I7CR9fMp1FpDMl_tnXW9CiL8hsVW81MvMeHUfmwG3RGwFw8l_enRcMGTGMy08yAXDQUng6-if2FrgA3On9RnNpvpl25L8PDXjBPncMbbQOv1VC5u_xlAPPvEhw-NY-bAYF6P1Wa8CQTsgNpFhLkNvIiE-u11DrXxBP-MJ3gprHw8w13IQtzt4NeWNJcDyO1T4NKjLtpwa1U4k2KGFNJG1u__AOfqYhhxNUH3XyNDk8NWDvUYeFrWtkqv6pxsZ1Oj1oZZNXOGrf5MJKfzEidD_LxOEQy_CXcnXI-uwpBEI20A8pGTMGqbmZ5vhT4PqdIMVTDxc2En1frKawQ0j11aj7259EAYLVXzbnIrQ-A8W7yznp_TFE1ACoFB4fS-nANuV-wF78BftpS9Mmg_-MG3Q-utqo1y2lNZ2JgPbOLdaQct6IwnfDSbbZ8HKwZWo8Tl5r_6trV1IEhbi2-q1l2yU_qWm5jnm59rYhkk9LPkwa7RwwCzE3AWd-e_eVOiedQcoRgEPM1oFhby1aFAauR1swysrCKmxPOMc1s9oT0MVeE095E6RP8sPB-qLylgli-ID5LXYqLdcCQv4whLaGFqM-M2IT4TmWHYQex0cXuST30HprxRduE3PQA1x7SbmkIN3VGUSVMg7T8CB2LsLLnxu230HocUHRnHy6Y9rFiV8nXgzLOP1gAwyBTrndINB7JINLEcP7GO-c60WT8xdcvzGg_61SP-RuIzC2MS7epAga7MydD2a6HMN842lugdl82YW_sUsrqPfHPRAtYZTa3xnaTC__sh-02aiAz69INGyBRGKaVw-ZuAKlbCmTzMSoE82VIXUFlphomhwexme3-Sk3aWkKz7muPcguZXX51aeDkngpJb0G_0nhEHw518fnR7IPWSFpYeqshfuFTWIwXZ5Bq64KWSZyIp-XsU097-nezPBiEJ5h8UBi-PjPeAWvlZGz-dIKZv1zjZn_kx_XtIrAx4bU7Vhd1ihVTT1-Y2zWppiJyhrgNjNWlhpv63m0oGrgSZV2n44uZPpaIsM2M4FRlEwSv_ZAxEzj10AvliZg9dbzyH2l5FIkWMAaW6r27bGm48Q-_ilpiZe_9r--Z8kgN7_xXS68A_7uo5k_SuMI24JiCbNls1BUQzmrLG6ytzeTHZgVO-p9q7uQ7hgBVrjhmg3ctElhp8VXYA_bHx7Lh6TbvhkrNhEf01PZ9fFEyB-6xwm9ZFn7MJkm-GwFj18R70RZltAywMUbyZEdLw_KSTOSUlpBLAZOF2bfhtXNMtB9_bvY6O3LfkViCTP_v0Xpe1eAjjE-4_MxHr9p43s_X6DObPq5Gu4vT2U8QUi_C4HkQ-o3m-Ltb3vBkcM5KWxA1jg31Vg_HlUags38wF4BKo_3QmAQEByCrQ=='\n"
     ]
    }
   ],
   "source": [
    "encryption_start_time = time.time()\n",
    "\n",
    "key = Fernet.generate_key()\n",
    "print(\"base64 encoded key is: \", key)\n",
    "cipher = Fernet(key)\n",
    "print(\"base64 encoded key cipher is: \", key)\n",
    "\n",
    "first_slice_csv = slices[0].to_csv(index=False).encode()\n",
    "\n",
    "# Encrypt the CSV data\n",
    "first_slice_encrypted = cipher.encrypt(first_slice_csv)\n",
    "\n",
    "# If you want to decrypt the encrypted data later, you can do it like this:\n",
    "# decrypted_data = cipher.decrypt(first_slice_encrypted)\n",
    "# decrypted_df = pd.read_csv(io.BytesIO(decrypted_data))\n",
    "\n",
    "print(\"consumed time is: \", time.time() - encryption_start_time)\n",
    "print(first_slice_encrypted)"
   ]
  }
 ],
 "metadata": {
  "kernelspec": {
   "display_name": ".venv",
   "language": "python",
   "name": "python3"
  },
  "language_info": {
   "codemirror_mode": {
    "name": "ipython",
    "version": 3
   },
   "file_extension": ".py",
   "mimetype": "text/x-python",
   "name": "python",
   "nbconvert_exporter": "python",
   "pygments_lexer": "ipython3",
   "version": "3.12.1"
  }
 },
 "nbformat": 4,
 "nbformat_minor": 2
}
